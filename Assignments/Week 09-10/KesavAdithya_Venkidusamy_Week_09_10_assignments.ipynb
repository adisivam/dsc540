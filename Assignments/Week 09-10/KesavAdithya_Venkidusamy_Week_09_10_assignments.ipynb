{
 "cells": [
  {
   "cell_type": "markdown",
   "id": "83f129b0",
   "metadata": {},
   "source": [
    "# Weeks 9 & 10 Exercises\n",
    "\n",
    "Name: Kesav Adithya Venkidusamy <br>\n",
    "Course: DSC540 - Data Preparation <br>\n",
    "Instructor: Catherine Williams <br>"
   ]
  },
  {
   "cell_type": "markdown",
   "id": "73d1bf07",
   "metadata": {},
   "source": [
    "#### 1. Data Wrangling with Python: Activity 9, page 294"
   ]
  },
  {
   "cell_type": "markdown",
   "id": "cee14ba8",
   "metadata": {},
   "source": [
    "Project Gutenberg encourages the creation and distribution of eBooks by encouraging volunteer efforts to digitize and archive cultural works. This activity aims to scrape the URL of Project Gutenberg's Top 100 eBooks to identify the eBooks' links. It uses BeautifulSoup4 to parse the HTML and regular expression code to identify the Top 100 eBook file numbers."
   ]
  },
  {
   "cell_type": "code",
   "execution_count": 1,
   "id": "f6e3adb5",
   "metadata": {},
   "outputs": [],
   "source": [
    "## 1. Importing the libraries required for these exercises.\n",
    "\n",
    "import urllib.request, urllib.parse, urllib.error\n",
    "import requests\n",
    "from bs4 import BeautifulSoup\n",
    "import ssl\n",
    "import re"
   ]
  },
  {
   "cell_type": "code",
   "execution_count": 2,
   "id": "a22fe184",
   "metadata": {},
   "outputs": [],
   "source": [
    "## 2. SSL certificate check; This will ignore the errors due to SSL certificate\n",
    "\n",
    "ctx = ssl.create_default_context()\n",
    "ctx.check_hostname = False\n",
    "ctx.verify_mode = ssl.CERT_NONE"
   ]
  },
  {
   "cell_type": "code",
   "execution_count": 3,
   "id": "dda54d44",
   "metadata": {},
   "outputs": [],
   "source": [
    "## 3. Reading HTML page from URL (https://www.gutenberg.org/browse/scores/top)\n",
    "\n",
    "url = 'https://www.gutenberg.org/browse/scores/top'\n",
    "rspns = requests.get(url)"
   ]
  },
  {
   "cell_type": "code",
   "execution_count": 6,
   "id": "4fec03ac",
   "metadata": {},
   "outputs": [],
   "source": [
    "## 4. Function to check the status of web request\n",
    "## If the status code is 200 then print Success; else Failed response\n",
    "\n",
    "def status_check(r):\n",
    "    if r.status_code==200:\n",
    "        print(\"Status code is 200\")\n",
    "        print(\"Success Response!\")\n",
    "        return 1\n",
    "    else:\n",
    "        print(\"Status code is not 200\")\n",
    "        print(\"Failed Response!\")\n",
    "        return -1"
   ]
  },
  {
   "cell_type": "code",
   "execution_count": 8,
   "id": "75c2b6e9",
   "metadata": {},
   "outputs": [
    {
     "name": "stdout",
     "output_type": "stream",
     "text": [
      "Status code is 200\n",
      "Success Response!\n"
     ]
    },
    {
     "data": {
      "text/plain": [
       "1"
      ]
     },
     "execution_count": 8,
     "metadata": {},
     "output_type": "execute_result"
    }
   ],
   "source": [
    "## Calling Status_check to see if our response is success or failed\n",
    "\n",
    "status_check(rspns)"
   ]
  },
  {
   "cell_type": "code",
   "execution_count": 10,
   "id": "9b7f1cdd",
   "metadata": {},
   "outputs": [],
   "source": [
    "## 5. BeautifulSoup processing for data parsing. Call this after checking the status of the response 'rspns' above\n",
    "\n",
    "html_data = rspns.content.decode(rspns.encoding)\n",
    "soup = BeautifulSoup(html_data, 'html.parser')"
   ]
  },
  {
   "cell_type": "code",
   "execution_count": 13,
   "id": "7f79dfbb",
   "metadata": {},
   "outputs": [
    {
     "name": "stdout",
     "output_type": "stream",
     "text": [
      "Total number of links present in the web page: 675\n"
     ]
    },
    {
     "data": {
      "text/plain": [
       "['/',\n",
       " '/about/',\n",
       " '/about/',\n",
       " '/policy/collection_development.html',\n",
       " '/about/contact_information.html',\n",
       " '/about/background/',\n",
       " '/policy/permission.html',\n",
       " '/policy/privacy_policy.html',\n",
       " '/policy/terms_of_use.html',\n",
       " '/ebooks/',\n",
       " '/ebooks/',\n",
       " '/ebooks/bookshelf/',\n",
       " '/browse/scores/top',\n",
       " '/ebooks/offline_catalogs.html',\n",
       " '/help/',\n",
       " '/help/',\n",
       " '/help/copyright.html',\n",
       " '/help/errata.html',\n",
       " '/help/file_formats.html',\n",
       " '/help/faq.html',\n",
       " '/policy/',\n",
       " '/help/public_domain_ebook_submission.html',\n",
       " '/help/submitting_your_own_work.html',\n",
       " '/help/mobile.html',\n",
       " '/attic/',\n",
       " '/donate/',\n",
       " '/donate/',\n",
       " '#books-last1',\n",
       " '#authors-last1',\n",
       " '#books-last7']"
      ]
     },
     "execution_count": 13,
     "metadata": {},
     "output_type": "execute_result"
    }
   ],
   "source": [
    "## 6. find all href tags and store them in a list\n",
    "##  Declaring empty list to hold all the http links in the HTML page\n",
    "\n",
    "href_links=[]\n",
    "\n",
    "## finding all the href tags and storing the corresponing links in the above defined list\n",
    "for link in soup.find_all('a'):\n",
    "    href_links.append(link.get('href'))\n",
    "\n",
    "## Printing the total number of links present in the web page\n",
    "print(\"Total number of links present in the web page: {}\".format(len(href_links)))\n",
    "\n",
    "## Printing first 30 values from the list\n",
    "href_links[:30]"
   ]
  },
  {
   "cell_type": "markdown",
   "id": "fd069602",
   "metadata": {},
   "source": [
    "It appears that first 33 elements : index [0] - [32], in this list are not the indicators of the Top100 books.\n",
    "Actual book numbers start from 34th occurrence - index [33] onwards and Top100 books present prior to [133]."
   ]
  },
  {
   "cell_type": "code",
   "execution_count": 16,
   "id": "9dc47205",
   "metadata": {},
   "outputs": [
    {
     "name": "stdout",
     "output_type": "stream",
     "text": [
      "Below is the list of book / file numbers of the Top100 books from Gutenberg:\n",
      "============================================================================================================================\n",
      "[84, 1342, 25344, 64317, 11, 1661, 98, 2542, 1952, 1080, 174, 1400, 345, 2701, 1260, 4300, 408, 219, 844, 43, 76, 23, 67367, 1232, 46, 5200, 6130, 160, 2591, 2554, 12116, 67364, 205, 67368, 36853, 15399, 2600, 67370, 67365, 514, 1250, 74, 1727, 7370, 55, 1184, 1497, 768, 3207, 215, 2814, 67358, 829, 67366, 5740, 35, 67369, 996, 28054, 140, 135, 45, 203, 3600, 851, 4363, 120, 16, 16328, 36, 67363, 20203, 42324, 1934, 19942, 161, 2148, 61, 41, 30254, 26184, 600, 103, 3825, 2852, 2908, 58585, 43453, 113, 4217, 1399, 158, 1998, 3296, 1513, 863, 20228, 11030, 1597, 730]\n",
      "============================================================================================================================\n"
     ]
    }
   ],
   "source": [
    "## 7. Using regular expression to find the numeric digits from the links. These are file numbers of Top100 books\n",
    "\n",
    "## Declaring blank list to store the result\n",
    "num_books = []\n",
    "\n",
    "for i, book in enumerate(href_links[33:133]):       ## enumerate function to bring out Top100 books from [33] to [133]\n",
    "    book.strip()                                   ## exlude spaces around the element data\n",
    "    num = re.findall('[0-9]+', book)               ## regular expression to identify first occurrence of numeric info\n",
    "    \n",
    "    ## when i checked, 'num' returned above retrieves a list of string, with each string representing the book number\n",
    "    \n",
    "    if len(num) == 1:                              ## validate only 1 element present in each of the 'num' list\n",
    "        num_books.append(int(num[0]))              ## load the numeric part of the book / file numbers as int() to book_list\n",
    "\n",
    "\n",
    "## print the book_list prepared above to display the book / file numbers of Top100 books in book_list\n",
    "\n",
    "print(\"Below is the list of book / file numbers of the Top100 books from Gutenberg:\")\n",
    "print(\"=\"* 124)\n",
    "print(num_books)\n",
    "print(\"=\"* 124)\n"
   ]
  },
  {
   "cell_type": "code",
   "execution_count": 18,
   "id": "c892491d",
   "metadata": {},
   "outputs": [
    {
     "name": "stdout",
     "output_type": "stream",
     "text": [
      "\n",
      "\n",
      "\n",
      "\n",
      "Top 100 | Project Gutenberg\n",
      "\n",
      "\n",
      "\n",
      "\n",
      "\n",
      "\n",
      "\n",
      "\n",
      "\n",
      "\n",
      "\n",
      "\n",
      "\n",
      "\n",
      "\n",
      "\n",
      "\n",
      "\n",
      "\n",
      "\n",
      "\n",
      "\n",
      "\n",
      "\n",
      "\n",
      "\n",
      "\n",
      "Menu▾\n",
      "\n",
      "\n",
      "\n",
      "About\n",
      "          ▾\n",
      "\n",
      "▾\n",
      "\n",
      "\n",
      "About Project Gutenberg\n",
      "Collection Development\n",
      "Contact Us\n",
      "History & Philosophy\n",
      "Permissions & License\n",
      "Privacy Policy\n",
      "Terms of Use\n",
      "\n",
      "\n",
      "\n",
      "Search and Browse\n",
      "      \t  ▾\n",
      "\n",
      "▾\n",
      "\n",
      "\n",
      "Book Search\n",
      "Bookshelves\n",
      "Frequently Downloaded\n",
      "Offline Catalogs\n",
      "\n",
      "\n",
      "\n",
      "Help\n",
      "          ▾\n",
      "\n",
      "▾\n",
      "\n",
      "\n",
      "All help topics →\n",
      "Copyright Procedures\n",
      "Errata, Fixes and Bug Reports\n",
      "File Formats\n",
      "Frequently Asked Questions\n",
      "Policies →\n",
      "Public Domain eBook Submission\n",
      "Submitting Your Own Work\n",
      "Tablets, Phones and eReaders\n",
      "The Attic →\n",
      "\n",
      "\n",
      "Donate\n",
      "\n",
      "\n",
      "\n",
      "\n",
      "\n",
      "\n",
      "\n",
      "\n",
      "\n",
      "\n",
      "Donation\n",
      "\n",
      "\n",
      "\n",
      "\n",
      "\n",
      "\n",
      "\n",
      "Frequently Viewed or Downloaded\n",
      "These listings are based on the number of times each eBook gets downloaded.\n",
      "      Multiple downloads from the same Internet address on the same day count as one download, and addresses that download more than 100 eBooks in a day are considered robots and are not counted.\n",
      "\n",
      "Downloaded Books\n",
      "2022-02-10140598\n",
      "last 7 days959838\n",
      "last 30 days4623192\n",
      "\n",
      "\n",
      "\n",
      "Top 100 EBooks yesterday\n",
      "Top 100 Authors yesterday\n",
      "Top 100 EBooks last 7 days\n",
      "Top 100 Authors last 7 days\n",
      "Top 100 EBooks last 30 days\n",
      "Top 100 Authors last 30 days\n",
      "\n",
      "\n",
      "Top 100 EBooks yesterday\n",
      "\n",
      "Frankenstein; Or, The Modern Prometheus by Mary Wollstonecraft Shelley (2732)\n",
      "Pride and Prejudice by Jane Austen (1802)\n",
      "The Scarlet Letter by Nathaniel Hawthorne (840)\n",
      "The Great Gatsby by F. Scott  Fitzgerald (827)\n",
      "Alice's Adventures in Wonderland by Lewis Carroll (825)\n",
      "The Adventures of Sherlock Holmes by Arthur Conan Doyle (766)\n",
      "A Tale of Two Cities by Charles Dickens (742)\n",
      "A Doll's House : a play by Henrik Ibsen (718)\n",
      "The Yellow Wallpaper by Charlotte Perkins Gilman (717)\n",
      "A Modest Proposal by Jonathan Swift (665)\n",
      "The Picture of Dorian Gray by Oscar Wilde (639)\n",
      "Great Expectations by Charles Dickens (614)\n",
      "Dracula by Bram Stoker (588)\n",
      "Moby Dick; Or, The Whale by Herman Melville (567)\n",
      "Jane Eyre: An Autobiography by Charlotte Brontë (546)\n",
      "Ulysses by James Joyce (522)\n",
      "The Souls of Black Folk by W. E. B.  Du Bois (503)\n",
      "Heart\n"
     ]
    }
   ],
   "source": [
    "## 8. print first 2000 characters from the parsed_data using '.text' method.\n",
    "## parsed_data was created using html.parser with BeautifulSoup library\n",
    "\n",
    "print(soup.text[:2000])"
   ]
  },
  {
   "cell_type": "code",
   "execution_count": 19,
   "id": "026f3e94",
   "metadata": {},
   "outputs": [
    {
     "name": "stdout",
     "output_type": "stream",
     "text": [
      "First index for text 'Top 100 EBooks yesterday' is: 113\n"
     ]
    }
   ],
   "source": [
    "## 10. , 11. and 12. Extract Top100 books from the yesterday's ranking, use splitlines() method and store the information.\n",
    "\n",
    "## Looking at the textual representation of initial 8000 characters, I found out that the required Top100 books data\n",
    "## begins after two occurrences of text \"Top 100 EBooks yesterday\". After 2nd occurrence of text \"Top 100 EBooks yesterday\",\n",
    "## the actual EBooks data starts.\n",
    "## So, we will be locating the index values for the first occurences and then adding\n",
    "\n",
    "yest_top100_list = []      \n",
    "\n",
    "## identify the first index location holding the first occurrence of \"Top 100 EBooks yesterday\"\n",
    "fst_idx = soup.text.splitlines().index('Top 100 EBooks yesterday')      \n",
    "\n",
    "print(\"First index for text 'Top 100 EBooks yesterday' is: {}\".format(fst_idx))"
   ]
  },
  {
   "cell_type": "markdown",
   "id": "9aa7e9e1",
   "metadata": {},
   "source": [
    "Looking at the printed data, we can see that there are 10 lines between line at 'fst_idx' and actual EBooks data"
   ]
  },
  {
   "cell_type": "code",
   "execution_count": 20,
   "id": "e4629314",
   "metadata": {},
   "outputs": [
    {
     "name": "stdout",
     "output_type": "stream",
     "text": [
      "['Top 100 EBooks yesterday', 'Top 100 Authors yesterday', 'Top 100 EBooks last 7 days', 'Top 100 Authors last 7 days', 'Top 100 EBooks last 30 days', 'Top 100 Authors last 30 days', '', '', 'Top 100 EBooks yesterday', '', 'Frankenstein; Or, The Modern Prometheus by Mary Wollstonecraft Shelley (2732)']\n"
     ]
    }
   ],
   "source": [
    "## print about 11 occurrences in the parsed_data.text after splitlines() method is performed. \n",
    "## This will give us an idea where the first occurrence of the EBooks start\n",
    "\n",
    "print(soup.text.splitlines()[113:124])"
   ]
  },
  {
   "cell_type": "markdown",
   "id": "17f04df6",
   "metadata": {},
   "source": [
    "Rather than using loop to extract the Top100 EBooks from yesterday, I have used a slice of the parsed_data which is more efficient."
   ]
  },
  {
   "cell_type": "code",
   "execution_count": 21,
   "id": "8f4925d8",
   "metadata": {},
   "outputs": [],
   "source": [
    "## It appears, looking at above spliced section, the first occurrence of EBook is present at index 123.\n",
    "## So, we will extract the 100 occurrence starting at index 123 and up to 222 (the last occurrence 223 us exluded)\n",
    "\n",
    "yest_top100_list = soup.text.splitlines()[fst_idx+10:223]"
   ]
  },
  {
   "cell_type": "code",
   "execution_count": 22,
   "id": "c57d0d20",
   "metadata": {},
   "outputs": [
    {
     "name": "stdout",
     "output_type": "stream",
     "text": [
      "['Frankenstein; Or, The Modern Prometheus by Mary Wollstonecraft Shelley (2732)', 'Pride and Prejudice by Jane Austen (1802)', 'The Scarlet Letter by Nathaniel Hawthorne (840)', 'The Great Gatsby by F. Scott  Fitzgerald (827)', \"Alice's Adventures in Wonderland by Lewis Carroll (825)\", 'The Adventures of Sherlock Holmes by Arthur Conan Doyle (766)', 'A Tale of Two Cities by Charles Dickens (742)', \"A Doll's House : a play by Henrik Ibsen (718)\", 'The Yellow Wallpaper by Charlotte Perkins Gilman (717)', 'A Modest Proposal by Jonathan Swift (665)', 'The Picture of Dorian Gray by Oscar Wilde (639)', 'Great Expectations by Charles Dickens (614)', 'Dracula by Bram Stoker (588)', 'Moby Dick; Or, The Whale by Herman Melville (567)', 'Jane Eyre: An Autobiography by Charlotte Brontë (546)', 'Ulysses by James Joyce (522)', 'The Souls of Black Folk by W. E. B.  Du Bois (503)', 'Heart of Darkness by Joseph Conrad (489)', 'The Importance of Being Earnest: A Trivial Comedy for Serious People by Oscar Wilde (469)', 'The Strange Case of Dr. Jekyll and Mr. Hyde by Robert Louis Stevenson (452)', 'Adventures of Huckleberry Finn by Mark Twain (445)', 'Narrative of the Life of Frederick Douglass, an American Slave by Frederick Douglass (438)', 'The Importance of Marking Historic Spots, an Address by Henry W. Shoemaker (438)', 'The Prince by Niccolò Machiavelli (420)', 'A Christmas Carol in Prose; Being a Ghost Story of Christmas by Charles Dickens (412)', 'Metamorphosis by Franz Kafka (410)', 'The Iliad by Homer (383)', 'The Awakening, and Selected Short Stories by Kate Chopin (369)', \"Grimms' Fairy Tales by Jacob Grimm and Wilhelm Grimm (367)\", 'Crime and Punishment by Fyodor Dostoyevsky (346)', 'Struwwelpeter: Merry Stories and Funny Pictures by Heinrich Hoffmann (346)', 'A Likely Story by Damon Knight (339)', 'Walden, and On The Duty Of Civil Disobedience by Henry David Thoreau (332)', 'Sam in the Suburbs by P. G.  Wodehouse (331)', 'A Very Naughty Girl by L. T. Meade (326)', 'The Interesting Narrative of the Life of Olaudah Equiano, Or Gustavus Vassa, The African by Equiano (321)', 'War and Peace by graf Leo Tolstoy (318)', 'From Missouri by Zane Grey (315)', 'A Personal Problem by H.  Bedford-Jones (315)', 'Little Women by Louisa May Alcott (313)', 'Anthem by Ayn Rand (312)', 'The Adventures of Tom Sawyer, Complete by Mark Twain (304)', 'The Odyssey by Homer (294)', 'Second Treatise of Government by John Locke (294)', 'The Wonderful Wizard of Oz by L. Frank  Baum (293)', 'The Count of Monte Cristo, Illustrated by Alexandre Dumas (286)', 'The Republic by Plato (285)', 'Wuthering Heights by Emily Brontë (256)', 'Leviathan by Thomas Hobbes (256)', 'The Call of the Wild by Jack London (255)', 'Dubliners by James Joyce (255)', 'The Thousand Buddhas: Ancient Buddhist Paintings from the Cave-Temples of Tun-huang on the Western F (247)', \"Gulliver's Travels into Several Remote Nations of the World by Jonathan Swift (242)\", 'The Cap and Gown by Charles Reynolds Brown (240)', 'Tractatus Logico-Philosophicus by Ludwig Wittgenstein (240)', 'The Time Machine by H. G.  Wells (239)', 'Hadrian the Seventh by Frederick Rolfe (236)', 'Don Quixote by Miguel de Cervantes Saavedra (236)', 'The Brothers Karamazov by Fyodor Dostoyevsky (236)', 'The Jungle by Upton Sinclair (235)', 'Les Misérables by Victor Hugo (232)', 'Anne of Green Gables by L. M.  Montgomery (229)', \"Uncle Tom's Cabin by Harriet Beecher Stowe (227)\", 'Essays of Michel de Montaigne — Complete by Michel de Montaigne (227)', 'Narrative of the Captivity and Restoration of Mrs. Mary Rowlandson by Mary White Rowlandson (226)', 'Beyond Good and Evil by Friedrich Wilhelm Nietzsche (226)', 'Treasure Island by Robert Louis Stevenson (224)', 'Peter Pan by J. M.  Barrie (216)', 'Beowulf: An Anglo-Saxon Epic Poem (211)', 'The War of the Worlds by H. G.  Wells (209)', 'The Theory of Moral Sentiments: Or, an Essay Towards an Analysis of the Principles by Which Men Natu (209)', 'Autobiography of Benjamin Franklin by Benjamin Franklin (205)', 'Frankenstein; Or, The Modern Prometheus by Mary Wollstonecraft Shelley (204)', 'Songs of Innocence and of Experience by William Blake (200)', 'Candide by Voltaire (199)', 'Sense and Sensibility by Jane Austen (199)', 'The Works of Edgar Allan Poe — Volume 2 by Edgar Allan Poe (197)', 'The Communist Manifesto by Friedrich Engels and Karl Marx (195)', 'The Legend of Sleepy Hollow by Washington Irving (194)', 'The Romance of Lust: A classic Victorian erotic novel by Anonymous (192)', 'Simple Sabotage Field Manual by United States. Office of Strategic Services (191)', 'Notes from the Underground by Fyodor Dostoyevsky (190)', 'Around the World in Eighty Days by Jules Verne (189)', 'Pygmalion by Bernard Shaw (187)', 'The Hound of the Baskervilles by Arthur Conan Doyle (186)', 'Strife: A Drama in Three Acts by John Galsworthy (184)', 'The Prophet by Kahlil Gibran (182)', 'A Pickle for the Knowing Ones by Timothy Dexter (180)', 'The Secret Garden by Frances Hodgson Burnett (179)', 'A Portrait of the Artist as a Young Man by James Joyce (176)', 'Anna Karenina by graf Leo Tolstoy (172)', 'Emma by Jane Austen (171)', 'Thus Spake Zarathustra: A Book for All and None by Friedrich Wilhelm Nietzsche (167)', 'The Confessions of St. Augustine by Bishop of Hippo Saint Augustine (164)', 'Romeo and Juliet by William Shakespeare (162)', 'The Mysterious Affair at Styles by Agatha Christie (161)', 'Noli Me Tangere by José Rizal (160)', 'Incidents in the Life of a Slave Girl, Written by Herself by Harriet A.  Jacobs (157)', \"Andersen's Fairy Tales by H. C.  Andersen (156)\", 'Oliver Twist by Charles Dickens (154)']\n"
     ]
    }
   ],
   "source": [
    "## print the list of \"Top 100 EBooks yesterday\"\n",
    "\n",
    "print(yest_top100_list)"
   ]
  },
  {
   "cell_type": "code",
   "execution_count": 24,
   "id": "788598c8",
   "metadata": {},
   "outputs": [
    {
     "name": "stdout",
     "output_type": "stream",
     "text": [
      "top100_yest_books text names [0]: Frankenstein; Or, The Modern Prometheus by Mary Wollstonecraft Shelley \n",
      "top100_yest_books text names [1]: Pride and Prejudice by Jane Austen \n",
      "top100_yest_books text names [2]: The Scarlet Letter by Nathaniel Hawthorne \n",
      "top100_yest_books text names [3]: The Great Gatsby by F. Scott  Fitzgerald \n",
      "top100_yest_books text names [4]: Alice's Adventures in Wonderland by Lewis Carroll \n",
      "top100_yest_books text names [5]: The Adventures of Sherlock Holmes by Arthur Conan Doyle \n",
      "top100_yest_books text names [6]: A Tale of Two Cities by Charles Dickens \n",
      "top100_yest_books text names [7]: A Doll's House : a play by Henrik Ibsen \n",
      "top100_yest_books text names [8]: The Yellow Wallpaper by Charlotte Perkins Gilman \n",
      "top100_yest_books text names [9]: A Modest Proposal by Jonathan Swift \n",
      "top100_yest_books text names [10]: The Picture of Dorian Gray by Oscar Wilde \n",
      "top100_yest_books text names [11]: Great Expectations by Charles Dickens \n",
      "top100_yest_books text names [12]: Dracula by Bram Stoker \n",
      "top100_yest_books text names [13]: Moby Dick; Or, The Whale by Herman Melville \n",
      "top100_yest_books text names [14]: Jane Eyre: An Autobiography by Charlotte Bront\n",
      "top100_yest_books text names [15]: Ulysses by James Joyce \n",
      "top100_yest_books text names [16]: The Souls of Black Folk by W. E. B.  Du Bois \n",
      "top100_yest_books text names [17]: Heart of Darkness by Joseph Conrad \n",
      "top100_yest_books text names [18]: The Importance of Being Earnest: A Trivial Comedy for Serious People by Oscar Wilde \n",
      "top100_yest_books text names [19]: The Strange Case of Dr. Jekyll and Mr. Hyde by Robert Louis Stevenson \n",
      "top100_yest_books text names [20]: Adventures of Huckleberry Finn by Mark Twain \n",
      "top100_yest_books text names [21]: Narrative of the Life of Frederick Douglass, an American Slave by Frederick Douglass \n",
      "top100_yest_books text names [22]: The Importance of Marking Historic Spots, an Address by Henry W. Shoemaker \n",
      "top100_yest_books text names [23]: The Prince by Niccol\n",
      "top100_yest_books text names [24]: A Christmas Carol in Prose; Being a Ghost Story of Christmas by Charles Dickens \n",
      "top100_yest_books text names [25]: Metamorphosis by Franz Kafka \n",
      "top100_yest_books text names [26]: The Iliad by Homer \n",
      "top100_yest_books text names [27]: The Awakening, and Selected Short Stories by Kate Chopin \n",
      "top100_yest_books text names [28]: Grimms' Fairy Tales by Jacob Grimm and Wilhelm Grimm \n",
      "top100_yest_books text names [29]: Crime and Punishment by Fyodor Dostoyevsky \n",
      "top100_yest_books text names [30]: Struwwelpeter: Merry Stories and Funny Pictures by Heinrich Hoffmann \n",
      "top100_yest_books text names [31]: A Likely Story by Damon Knight \n",
      "top100_yest_books text names [32]: Walden, and On The Duty Of Civil Disobedience by Henry David Thoreau \n",
      "top100_yest_books text names [33]: Sam in the Suburbs by P. G.  Wodehouse \n",
      "top100_yest_books text names [34]: A Very Naughty Girl by L. T. Meade \n",
      "top100_yest_books text names [35]: The Interesting Narrative of the Life of Olaudah Equiano, Or Gustavus Vassa, The African by Equiano \n",
      "top100_yest_books text names [36]: War and Peace by graf Leo Tolstoy \n",
      "top100_yest_books text names [37]: From Missouri by Zane Grey \n",
      "top100_yest_books text names [38]: A Personal Problem by H.  Bedford\n",
      "top100_yest_books text names [39]: Little Women by Louisa May Alcott \n",
      "top100_yest_books text names [40]: Anthem by Ayn Rand \n",
      "top100_yest_books text names [41]: The Adventures of Tom Sawyer, Complete by Mark Twain \n",
      "top100_yest_books text names [42]: The Odyssey by Homer \n",
      "top100_yest_books text names [43]: Second Treatise of Government by John Locke \n",
      "top100_yest_books text names [44]: The Wonderful Wizard of Oz by L. Frank  Baum \n",
      "top100_yest_books text names [45]: The Count of Monte Cristo, Illustrated by Alexandre Dumas \n",
      "top100_yest_books text names [46]: The Republic by Plato \n",
      "top100_yest_books text names [47]: Wuthering Heights by Emily Bront\n",
      "top100_yest_books text names [48]: Leviathan by Thomas Hobbes \n",
      "top100_yest_books text names [49]: The Call of the Wild by Jack London \n",
      "top100_yest_books text names [50]: Dubliners by James Joyce \n",
      "top100_yest_books text names [51]: The Thousand Buddhas: Ancient Buddhist Paintings from the Cave\n",
      "top100_yest_books text names [52]: Gulliver's Travels into Several Remote Nations of the World by Jonathan Swift \n",
      "top100_yest_books text names [53]: The Cap and Gown by Charles Reynolds Brown \n",
      "top100_yest_books text names [54]: Tractatus Logico\n",
      "top100_yest_books text names [55]: The Time Machine by H. G.  Wells \n",
      "top100_yest_books text names [56]: Hadrian the Seventh by Frederick Rolfe \n",
      "top100_yest_books text names [57]: Don Quixote by Miguel de Cervantes Saavedra \n",
      "top100_yest_books text names [58]: The Brothers Karamazov by Fyodor Dostoyevsky \n",
      "top100_yest_books text names [59]: The Jungle by Upton Sinclair \n",
      "top100_yest_books text names [60]: Les Mis\n",
      "top100_yest_books text names [61]: Anne of Green Gables by L. M.  Montgomery \n",
      "top100_yest_books text names [62]: Uncle Tom's Cabin by Harriet Beecher Stowe \n",
      "top100_yest_books text names [63]: Essays of Michel de Montaigne — Complete by Michel de Montaigne \n",
      "top100_yest_books text names [64]: Narrative of the Captivity and Restoration of Mrs. Mary Rowlandson by Mary White Rowlandson \n",
      "top100_yest_books text names [65]: Beyond Good and Evil by Friedrich Wilhelm Nietzsche \n",
      "top100_yest_books text names [66]: Treasure Island by Robert Louis Stevenson \n",
      "top100_yest_books text names [67]: Peter Pan by J. M.  Barrie \n",
      "top100_yest_books text names [68]: Beowulf: An Anglo\n",
      "top100_yest_books text names [69]: The War of the Worlds by H. G.  Wells \n",
      "top100_yest_books text names [70]: The Theory of Moral Sentiments: Or, an Essay Towards an Analysis of the Principles by Which Men Natu \n",
      "top100_yest_books text names [71]: Autobiography of Benjamin Franklin by Benjamin Franklin \n",
      "top100_yest_books text names [72]: Frankenstein; Or, The Modern Prometheus by Mary Wollstonecraft Shelley \n",
      "top100_yest_books text names [73]: Songs of Innocence and of Experience by William Blake \n",
      "top100_yest_books text names [74]: Candide by Voltaire \n",
      "top100_yest_books text names [75]: Sense and Sensibility by Jane Austen \n",
      "top100_yest_books text names [76]: The Works of Edgar Allan Poe — Volume 2 by Edgar Allan Poe \n",
      "top100_yest_books text names [77]: The Communist Manifesto by Friedrich Engels and Karl Marx \n",
      "top100_yest_books text names [78]: The Legend of Sleepy Hollow by Washington Irving \n",
      "top100_yest_books text names [79]: The Romance of Lust: A classic Victorian erotic novel by Anonymous \n",
      "top100_yest_books text names [80]: Simple Sabotage Field Manual by United States. Office of Strategic Services \n",
      "top100_yest_books text names [81]: Notes from the Underground by Fyodor Dostoyevsky \n",
      "top100_yest_books text names [82]: Around the World in Eighty Days by Jules Verne \n",
      "top100_yest_books text names [83]: Pygmalion by Bernard Shaw \n",
      "top100_yest_books text names [84]: The Hound of the Baskervilles by Arthur Conan Doyle \n",
      "top100_yest_books text names [85]: Strife: A Drama in Three Acts by John Galsworthy \n",
      "top100_yest_books text names [86]: The Prophet by Kahlil Gibran \n",
      "top100_yest_books text names [87]: A Pickle for the Knowing Ones by Timothy Dexter \n",
      "top100_yest_books text names [88]: The Secret Garden by Frances Hodgson Burnett \n",
      "top100_yest_books text names [89]: A Portrait of the Artist as a Young Man by James Joyce \n",
      "top100_yest_books text names [90]: Anna Karenina by graf Leo Tolstoy \n",
      "top100_yest_books text names [91]: Emma by Jane Austen \n",
      "top100_yest_books text names [92]: Thus Spake Zarathustra: A Book for All and None by Friedrich Wilhelm Nietzsche \n",
      "top100_yest_books text names [93]: The Confessions of St. Augustine by Bishop of Hippo Saint Augustine \n",
      "top100_yest_books text names [94]: Romeo and Juliet by William Shakespeare \n",
      "top100_yest_books text names [95]: The Mysterious Affair at Styles by Agatha Christie \n",
      "top100_yest_books text names [96]: Noli Me Tangere by Jos\n",
      "top100_yest_books text names [97]: Incidents in the Life of a Slave Girl, Written by Herself by Harriet A.  Jacobs \n",
      "top100_yest_books text names [98]: Andersen's Fairy Tales by H. C.  Andersen \n",
      "top100_yest_books text names [99]: Oliver Twist by Charles Dickens \n"
     ]
    }
   ],
   "source": [
    "## 13. Use regular expression to segregate the Text information in the EBooks data. Use match() and span() methods\n",
    "\n",
    "top100_yest_books = []\n",
    "\n",
    "## using for loop, and regular expression match() and span() methods\n",
    "\n",
    "## Reegular expression helps to locate the starting index of textual part of the book name with intermediate spaces \n",
    "## along with the required special characters present within the book names included.\n",
    "## span() method returns a tuple containing starting and ending index of the matched string - we store them in idx1 and idx2\n",
    "\n",
    "for i in range(100):                                                        ## process the 100 EBooks occurrences\n",
    "    idx1, idx2 = re.match(r\"^[A-Za-zè .0-9;,:—']*\", yest_top100_list[i]).span()  ## match() and span() methods described \n",
    "    top100_yest_books.append(yest_top100_list[i][idx1:idx2])                ## append the book name using idx1 and idx2\n",
    "    print(f'top100_yest_books text names [{i}]: {top100_yest_books[i]}')    ## print the book names, while storing in list"
   ]
  },
  {
   "cell_type": "markdown",
   "id": "ac527638",
   "metadata": {},
   "source": [
    "#### Data Wrangling with Python: Activity 10, page 295"
   ]
  },
  {
   "cell_type": "markdown",
   "id": "015a9cfa",
   "metadata": {},
   "source": [
    "In this activity, you will build a complete movie database by communicating and interfacing with a free API. You will learn about obtaining a unique user key that must be used when your program tries to access the API. This activity will teach you general chapters about working with an API, which are fairly common for other highly popular API services such as Google or Twitter. Therefore, after doing this exercise, you will be confident about writing more complex programs to scrape data from such services."
   ]
  },
  {
   "cell_type": "code",
   "execution_count": 33,
   "id": "de96969b",
   "metadata": {},
   "outputs": [],
   "source": [
    "## 1. Importing required libraries for this exercise\n",
    "## urllib.request for opening and reading the URL\n",
    "## urllib.error containing the exceptions raised by urllib.request\n",
    "## urllib.parse for parsing URLs\n",
    "## import json library\n",
    "\n",
    "import urllib.request, urllib.parse, urllib.error\n",
    "import json"
   ]
  },
  {
   "cell_type": "code",
   "execution_count": 34,
   "id": "fbfa3c58",
   "metadata": {},
   "outputs": [],
   "source": [
    "## 2,3,4. Read the api_key from the json file stored locally. this key will be used to connect with OMDB with API\n",
    "\n",
    "with open(\"OMDB_Key.json\") as f:\n",
    "    json_data = json.load(f)\n",
    "    api_key = json_data['OMDBAPIKey']"
   ]
  },
  {
   "cell_type": "code",
   "execution_count": 35,
   "id": "9c622437",
   "metadata": {},
   "outputs": [],
   "source": [
    "## 5. Create a service url variable consisting of base url link\n",
    "\n",
    "service_url = \"http://www.omdbapi.com/?\""
   ]
  },
  {
   "cell_type": "code",
   "execution_count": 36,
   "id": "b28f9308",
   "metadata": {},
   "outputs": [],
   "source": [
    "## 6. Create apikey variable to be appended to the service_url for api call\n",
    "\n",
    "apikey = '&apikey='+api_key"
   ]
  },
  {
   "cell_type": "code",
   "execution_count": 37,
   "id": "9e9631ca",
   "metadata": {},
   "outputs": [],
   "source": [
    "## 7. Utility function print_json to print the movie information from the portal.\n",
    "## I received a link in the email indicatng a sample movie information\n",
    "## http://www.omdbapi.com/?i=tt3896198&apikey=api_key\n",
    "\n",
    "## Below is the sample information present under the link\n",
    "## {\"Title\":\"Guardians of the Galaxy Vol. 2\",\"Year\":\"2017\",\"Rated\":\"PG-13\",\"Released\":\"05 May 2017\",\"Runtime\":\"136 min\",\"Genre\":\"Action, Adventure, Comedy\",\"Director\":\"James Gunn\",\"Writer\":\"James Gunn, Dan Abnett, Andy Lanning\",\"Actors\":\"Chris Pratt, Zoe Saldana, Dave Bautista\",\"Plot\":\"The Guardians struggle to keep together as a team while dealing with their personal family issues, notably Star-Lord's encounter with his father the ambitious celestial being Ego.\",\"Language\":\"English\",\"Country\":\"United States\",\"Awards\":\"Nominated for 1 Oscar. 15 wins & 58 nominations total\",\"Poster\":\"https://m.media-amazon.com/images/M/MV5BNjM0NTc0NzItM2FlYS00YzEwLWE0YmUtNTA2ZWIzODc2OTgxXkEyXkFqcGdeQXVyNTgwNzIyNzg@._V1_SX300.jpg\",\"Ratings\":[{\"Source\":\"Internet Movie Database\",\"Value\":\"7.6/10\"},{\"Source\":\"Rotten Tomatoes\",\"Value\":\"85%\"},{\"Source\":\"Metacritic\",\"Value\":\"67/100\"}],\"Metascore\":\"67\",\"imdbRating\":\"7.6\",\"imdbVotes\":\"630,077\",\"imdbID\":\"tt3896198\",\"Type\":\"movie\",\"DVD\":\"22 Aug 2017\",\"BoxOffice\":\"$389,813,101\",\"Production\":\"N/A\",\"Website\":\"N/A\",\"Response\":\"True\"}\n",
    "\n",
    "## Fields present in the IMDB\n",
    "## Fields: 'Title', 'Year', 'Rated', 'Released', 'Runtime', 'Genre', 'Director', 'Writer', 'Actors', 'Plot', 'Language','Country', 'Awards', 'Ratings', 'Metascore', 'imdbRating', 'imdbVotes', 'imdbID'\n",
    "\n",
    "def print_json(json_data):\n",
    "    \n",
    "    ## prepare the list of keys from the json format movie data, retrieved from the OMDB database\n",
    "    \n",
    "    keys_list = [\"Title\", \"Year\", \"Rated\", \"Released\", \"Runtime\", \"Genre\", \"Director\", \"Writer\", \"Actors\", \"Plot\", \"Language\"\n",
    "                \"Country\", \"Awards\", \"Poster\", \"Ratings\", \"Metascore\", \"imdbRating\", \"imdbVotes\", \"imdbID\", \"Type\", \"DVD\", \n",
    "                \"BoxOffice\", \"Production\", \"Website\", \"Response\"]\n",
    "    \n",
    "    print(\"=\" * 60)\n",
    "    \n",
    "    ## print the formatted data about the movies from the json_data provided as input\n",
    "    \n",
    "    for key in keys_list:\n",
    "        if key in list(json_data.keys()):\n",
    "            print(f'{key}: {json_data[key]}')\n",
    "    \n",
    "    print(\"=\" * 60)"
   ]
  },
  {
   "cell_type": "code",
   "execution_count": 38,
   "id": "d60d6349",
   "metadata": {},
   "outputs": [],
   "source": [
    "## 8.Write a utility function to download a poster of the movie based on the information from the JSON dataset and save it in your local folder. \n",
    "## Use the os module. The poster data is stored in the JSON key Poster. \n",
    "## Use the Python command to open a file and write the poster data. Close the file after you're done. \n",
    "## This function will save the poster data as an image file.\n",
    "\n",
    "## Importing os Module to choose the files from the current directory\n",
    "\n",
    "import os"
   ]
  },
  {
   "cell_type": "code",
   "execution_count": 50,
   "id": "fb8cfbda",
   "metadata": {},
   "outputs": [],
   "source": [
    "## Function to store the dataset in json format in the local folder\n",
    "\n",
    "def save_poster(json_data):\n",
    "    \n",
    "    title = json_data['Title'] ## Get the title of the movie\n",
    "    poster_url = json_data['Poster'] ## Get the poster for the movie\n",
    "    \n",
    "    # Use the separator \".\" to split the data read from json\n",
    "    poster_file_extension=poster_url.split('.')[-1]\n",
    "    \n",
    "    # Reads the image of the movie poster file from web\n",
    "    poster_data = urllib.request.urlopen(poster_url).read()\n",
    "        \n",
    "    savelocation=os.getcwd()+'\\\\'+'Posters'+'\\\\'\n",
    "    \n",
    "    # Creates new directory if the directory does not exist. Otherwise, just use the existing path.\n",
    "    if not os.path.isdir(savelocation):\n",
    "        os.mkdir(savelocation)\n",
    "    \n",
    "    filename=savelocation+str(title)+'.'+poster_file_extension\n",
    "    f=open(filename,'wb')\n",
    "    f.write(poster_data)\n",
    "    f.close()\n",
    "    print(\"The poster has been successfully saved in the beloe path:\")\n",
    "    print(savelocation)"
   ]
  },
  {
   "cell_type": "markdown",
   "id": "67c9e7eb",
   "metadata": {},
   "source": [
    "9. Write a utility function called search_movie to search for a movie by its name, print the downloaded JSON data, and save the movie poster in the local folder. Use a try-except loop for this. Use the previously created serviceurl and apikey variables. You have to pass on a dictionary with a key, t, and the movie name as the corresponding value to the urllib.parse.urlencode() function and then add the serviceurl and apikey to the output of the function to construct the full URL. This URL will be used to access the data. The JSON data has a key called Response. If it is True, that means the read was successful. Check this before processing the data. If it's not successful, then print the JSON key Error, which will contain the appropriate error message returned by the movie database."
   ]
  },
  {
   "cell_type": "code",
   "execution_count": 51,
   "id": "40fb6ec6",
   "metadata": {},
   "outputs": [],
   "source": [
    "## Function to search the movie by title\n",
    "## The imdb link with title and apikey is passed to get the details about the movie to search\n",
    "\n",
    "def search_movie(title):\n",
    "    try:\n",
    "        url = service_url + urllib.parse.urlencode({'t': str(title)})+\"&apikey=\"+api_key\n",
    "        print(f'Retrieving the data of \"{title}\" now... ')\n",
    "        print(url)\n",
    "        uh = urllib.request.urlopen(url)\n",
    "        data = uh.read()\n",
    "        json_data=json.loads(data)\n",
    "        \n",
    "        if json_data['Response']=='True':\n",
    "            print_json(json_data)\n",
    "            \n",
    "            # User Input: Asks user whether to download the poster of the movie\n",
    "            if json_data['Poster']!='N/A':\n",
    "                save_poster(json_data)\n",
    "        else:\n",
    "            print(\"Error encountered: \",json_data['Error'])\n",
    "    \n",
    "    except urllib.error.URLError as e:\n",
    "        print(f\"ERROR: {e.reason}\")"
   ]
  },
  {
   "cell_type": "code",
   "execution_count": 52,
   "id": "e80ac283",
   "metadata": {},
   "outputs": [
    {
     "name": "stdout",
     "output_type": "stream",
     "text": [
      "Retrieving the data of \"Titanic\" now... \n",
      "http://www.omdbapi.com/?t=Titanic&apikey=5582d4a7\n",
      "============================================================\n",
      "Title: Titanic\n",
      "Year: 1997\n",
      "Rated: PG-13\n",
      "Released: 19 Dec 1997\n",
      "Runtime: 194 min\n",
      "Genre: Drama, Romance\n",
      "Director: James Cameron\n",
      "Writer: James Cameron\n",
      "Actors: Leonardo DiCaprio, Kate Winslet, Billy Zane\n",
      "Plot: A seventeen-year-old aristocrat falls in love with a kind but poor artist aboard the luxurious, ill-fated R.M.S. Titanic.\n",
      "Awards: Won 11 Oscars. 125 wins & 83 nominations total\n",
      "Poster: https://m.media-amazon.com/images/M/MV5BMDdmZGU3NDQtY2E5My00ZTliLWIzOTUtMTY4ZGI1YjdiNjk3XkEyXkFqcGdeQXVyNTA4NzY1MzY@._V1_SX300.jpg\n",
      "Ratings: [{'Source': 'Internet Movie Database', 'Value': '7.8/10'}, {'Source': 'Rotten Tomatoes', 'Value': '89%'}, {'Source': 'Metacritic', 'Value': '75/100'}]\n",
      "Metascore: 75\n",
      "imdbRating: 7.8\n",
      "imdbVotes: 1,117,107\n",
      "imdbID: tt0120338\n",
      "Type: movie\n",
      "DVD: 08 Jan 2002\n",
      "BoxOffice: $659,363,944\n",
      "Production: N/A\n",
      "Website: N/A\n",
      "Response: True\n",
      "============================================================\n",
      "The poster has been successfully saved in the beloe path:\n",
      "C:\\Users\\KesavAdithya\\PycharmProjects\\DSC540\\Week 09-10\\Posters\\\n"
     ]
    }
   ],
   "source": [
    "## 10. Test the search_movie function by entering Titanic.\n",
    "\n",
    "search_movie(\"Titanic\")"
   ]
  },
  {
   "cell_type": "code",
   "execution_count": 55,
   "id": "dc6db681",
   "metadata": {},
   "outputs": [
    {
     "data": {
      "image/jpeg": "[encoded data removed]",
      "text/plain": [
       "<IPython.core.display.Image object>"
      ]
     },
     "execution_count": 55,
     "metadata": {},
     "output_type": "execute_result"
    }
   ],
   "source": [
    "## Showing the poster of the movie from local folder;\n",
    "from IPython.display import Image\n",
    "Image(filename='Posters\\Titanic.jpg') "
   ]
  },
  {
   "cell_type": "markdown",
   "id": "7aa80d3d",
   "metadata": {},
   "source": [
    "The image has been successfully shown from the local folder"
   ]
  },
  {
   "cell_type": "markdown",
   "id": "e3ddb035",
   "metadata": {},
   "source": [
    "11. Test the search_movie function by entering 'Random_error' (obviously, this will not be found, and you should be able to check whether your error catching code is working properly)."
   ]
  },
  {
   "cell_type": "code",
   "execution_count": 56,
   "id": "b0739dfe",
   "metadata": {},
   "outputs": [
    {
     "name": "stdout",
     "output_type": "stream",
     "text": [
      "Retrieving the data of \"Random_error\" now... \n",
      "http://www.omdbapi.com/?t=Random_error&apikey=5582d4a7\n",
      "Error encountered:  Movie not found!\n"
     ]
    }
   ],
   "source": [
    "## Search the movie named with Random_error\n",
    "\n",
    "search_movie(\"Random_error\")"
   ]
  },
  {
   "cell_type": "markdown",
   "id": "44e20994",
   "metadata": {},
   "source": [
    "From the above result, we could see that it has returned the error message. So, there is no movie with a name Random_error. So, our code is working fine as expected."
   ]
  },
  {
   "cell_type": "markdown",
   "id": "81dec894",
   "metadata": {},
   "source": [
    "#### 3. Connect to the Twitter API and do a simple data pull"
   ]
  },
  {
   "cell_type": "code",
   "execution_count": 57,
   "id": "52f68575",
   "metadata": {},
   "outputs": [
    {
     "name": "stdout",
     "output_type": "stream",
     "text": [
      "Collecting python-twitter\n",
      "  Downloading python_twitter-3.5-py2.py3-none-any.whl (67 kB)\n",
      "Requirement already satisfied: requests in c:\\users\\kesavadithya\\anaconda3\\lib\\site-packages (from python-twitter) (2.25.1)\n",
      "Requirement already satisfied: future in c:\\users\\kesavadithya\\anaconda3\\lib\\site-packages (from python-twitter) (0.18.2)\n",
      "Collecting requests-oauthlib\n",
      "  Downloading requests_oauthlib-1.3.1-py2.py3-none-any.whl (23 kB)\n",
      "Requirement already satisfied: certifi>=2017.4.17 in c:\\users\\kesavadithya\\anaconda3\\lib\\site-packages (from requests->python-twitter) (2020.12.5)\n",
      "Requirement already satisfied: chardet<5,>=3.0.2 in c:\\users\\kesavadithya\\anaconda3\\lib\\site-packages (from requests->python-twitter) (4.0.0)\n",
      "Requirement already satisfied: urllib3<1.27,>=1.21.1 in c:\\users\\kesavadithya\\anaconda3\\lib\\site-packages (from requests->python-twitter) (1.26.4)\n",
      "Requirement already satisfied: idna<3,>=2.5 in c:\\users\\kesavadithya\\anaconda3\\lib\\site-packages (from requests->python-twitter) (2.10)\n",
      "Collecting oauthlib>=3.0.0\n",
      "  Downloading oauthlib-3.2.0-py3-none-any.whl (151 kB)\n",
      "Installing collected packages: oauthlib, requests-oauthlib, python-twitter\n",
      "Successfully installed oauthlib-3.2.0 python-twitter-3.5 requests-oauthlib-1.3.1\n"
     ]
    }
   ],
   "source": [
    "## Installing Twitter library available for python\n",
    "\n",
    "!pip install python-twitter"
   ]
  },
  {
   "cell_type": "markdown",
   "id": "26eeecde",
   "metadata": {},
   "source": [
    "Assignment Steps: <br>\n",
    "\n",
    "a. If you don’t have a twitter account – create one at twitter.com/signup (you can delete the account after this assignment) <br>\n",
    "b. Sign in to apps.twitter.com <br>\n",
    "c. Click “Create New App” <br>\n",
    "d. Give your app a name and description <br>\n",
    "e. Agree to the developer agreement – you will want to make sure to indicate this is for a class project, and this step can take several days to get through, so don’t wait until last minute to complete this portion of the assignment <br>\n",
    "f. Create an access token <br>\n",
    "g. You should receive a consumer key and a token <br>"
   ]
  },
  {
   "cell_type": "markdown",
   "id": "120784e8",
   "metadata": {},
   "source": [
    "I have followed the above mentioned steps to create a APP called \"KesavDSC540\" and received consumer key and token to connect to twitter account"
   ]
  },
  {
   "cell_type": "markdown",
   "id": "b9d5f3bf",
   "metadata": {},
   "source": [
    "h. Using either the instructions from the book on connecting to an API or for help look here – pull back data searching for “Bellevue University” and “Data Science” (or something else you are interested in)"
   ]
  },
  {
   "cell_type": "code",
   "execution_count": 103,
   "id": "96735eff",
   "metadata": {},
   "outputs": [],
   "source": [
    "# Importing Twitter and setting up my user keys\n",
    "\n",
    "import twitter"
   ]
  },
  {
   "cell_type": "code",
   "execution_count": 110,
   "id": "390e44f9",
   "metadata": {},
   "outputs": [],
   "source": [
    "## Reading json file to get the access and secret keys for Twitter API\n",
    "\n",
    "with open(\"twitter_api_key.json\") as f:\n",
    "    json_data = json.load(f)\n",
    "    consumer_key  = json_data['consumer_key']\n",
    "    consumer_secret = json_data['consumer_secret']\n",
    "    access_token_key = json_data['access_token_key']\n",
    "    access_token_secret = json_data['access_token_secret']\n",
    "f.close()"
   ]
  },
  {
   "cell_type": "code",
   "execution_count": 111,
   "id": "687632cb",
   "metadata": {},
   "outputs": [],
   "source": [
    "## Creating API with user keys read in above step\n",
    "\n",
    "api = twitter.Api(consumer_key=consumer_key,\n",
    "  consumer_secret=consumer_secret,\n",
    "    access_token_key=access_token_key,\n",
    "    access_token_secret=access_token_secret)"
   ]
  },
  {
   "cell_type": "code",
   "execution_count": 112,
   "id": "774652c0",
   "metadata": {},
   "outputs": [
    {
     "name": "stdout",
     "output_type": "stream",
     "text": [
      "{\"created_at\": \"Sun Jan 27 14:34:06 +0000 2013\", \"default_profile\": true, \"favourites_count\": 82, \"followers_count\": 17, \"friends_count\": 303, \"id\": 1125230785, \"id_str\": \"1125230785\", \"location\": \"Waukegan, IL\", \"name\": \"Kesav Adithya Venkidusamy\", \"profile_background_color\": \"C0DEED\", \"profile_background_image_url\": \"http://abs.twimg.com/images/themes/theme1/bg.png\", \"profile_background_image_url_https\": \"https://abs.twimg.com/images/themes/theme1/bg.png\", \"profile_image_url\": \"http://pbs.twimg.com/profile_images/748026853198274560/Wt1mImwT_normal.jpg\", \"profile_image_url_https\": \"https://pbs.twimg.com/profile_images/748026853198274560/Wt1mImwT_normal.jpg\", \"profile_link_color\": \"1DA1F2\", \"profile_sidebar_border_color\": \"C0DEED\", \"profile_sidebar_fill_color\": \"DDEEF6\", \"profile_text_color\": \"333333\", \"profile_use_background_image\": true, \"screen_name\": \"KesavadithyaV\", \"status\": {\"created_at\": \"Tue Sep 29 05:49:37 +0000 2020\", \"favorite_count\": 1, \"favorited\": true, \"id\": 1310818995570987008, \"id_str\": \"1310818995570987008\", \"lang\": \"en\", \"media\": [{\"display_url\": \"pic.twitter.com/gU8KZiypRc\", \"expanded_url\": \"https://twitter.com/KeshavAadithya/status/1310818995570987008/photo/1\", \"id\": 1310818989753409536, \"media_url\": \"http://pbs.twimg.com/media/EjD27RkWoAAU6Um.jpg\", \"media_url_https\": \"https://pbs.twimg.com/media/EjD27RkWoAAU6Um.jpg\", \"sizes\": {\"large\": {\"h\": 2048, \"resize\": \"fit\", \"w\": 2048}, \"medium\": {\"h\": 1200, \"resize\": \"fit\", \"w\": 1200}, \"small\": {\"h\": 680, \"resize\": \"fit\", \"w\": 680}, \"thumb\": {\"h\": 150, \"resize\": \"crop\", \"w\": 150}}, \"type\": \"photo\", \"url\": \"https://t.co/gU8KZiypRc\"}], \"source\": \"<a href=\\\"http://twitter.com/download/iphone\\\" rel=\\\"nofollow\\\">Twitter for iPhone</a>\", \"text\": \"#PrimeDayPhotos @amazonphotos Cool dude..!! https://t.co/gU8KZiypRc\"}, \"statuses_count\": 6, \"withheld_in_countries\": []}\n"
     ]
    }
   ],
   "source": [
    "# validating that the credentials are accurate\n",
    "\n",
    "print(api.VerifyCredentials())"
   ]
  },
  {
   "cell_type": "code",
   "execution_count": 105,
   "id": "6528d203",
   "metadata": {},
   "outputs": [
    {
     "data": {
      "text/plain": [
       "[Status(ID=1493735334542135298, ScreenName=RachaelLudwick, Created=Tue Feb 15 23:53:50 +0000 2022, Text='@AnnaZivarts There at least was one in university village mall which ... is a faux pedestrianized space that is inc… https://t.co/kH6gdE8VaY'),\n",
       " Status(ID=1493729903262711809, ScreenName=MutiaraTirtania, Created=Tue Feb 15 23:32:15 +0000 2022, Text='🏀HS Boys Basketball\\nMayfield vs St. Mary\\nRussell County vs Danville\\nUniversity Heights vs Christian County\\nWest Jes… https://t.co/nzU6l5nkne'),\n",
       " Status(ID=1493724074606006281, ScreenName=RandiElainePena, Created=Tue Feb 15 23:09:06 +0000 2022, Text='RT @DroverAthletics: #14 Science &amp; Arts⚾️ is off to a great start to the season and this weekend they host home-opening series against Frie…'),\n",
       " Status(ID=1493709939956752388, ScreenName=jacebrandy, Created=Tue Feb 15 22:12:56 +0000 2022, Text='RT @DroverAthletics: #14 Science &amp; Arts⚾️ is off to a great start to the season and this weekend they host home-opening series against Frie…'),\n",
       " Status(ID=1493709209128550413, ScreenName=BUCareer2, Created=Tue Feb 15 22:10:01 +0000 2022, Text='Looking to take the SHRM but not prepared? BU will be offering an online preparation course.  Check out the article… https://t.co/uF5qPfcyIh'),\n",
       " Status(ID=1493708966844682248, ScreenName=NAIABall, Created=Tue Feb 15 22:09:04 +0000 2022, Text='RT @DroverAthletics: #14 Science &amp; Arts⚾️ is off to a great start to the season and this weekend they host home-opening series against Frie…'),\n",
       " Status(ID=1493708638388637705, ScreenName=TShoe9, Created=Tue Feb 15 22:07:45 +0000 2022, Text='RT @DroverAthletics: #14 Science &amp; Arts⚾️ is off to a great start to the season and this weekend they host home-opening series against Frie…'),\n",
       " Status(ID=1493708574316449798, ScreenName=DroverAthletics, Created=Tue Feb 15 22:07:30 +0000 2022, Text='#14 Science &amp; Arts⚾️ is off to a great start to the season and this weekend they host home-opening series against F… https://t.co/JFdw5ZxxQR'),\n",
       " Status(ID=1493696990529703941, ScreenName=BeranekReading, Created=Tue Feb 15 21:21:28 +0000 2022, Text=\"RT @BPSFNE: Don't forget to check out this amazing opportunity! Bellevue University has partnered with BPS Foundation to offer full-ride sc…\"),\n",
       " Status(ID=1493696842021883910, ScreenName=BPSFNE, Created=Tue Feb 15 21:20:53 +0000 2022, Text=\"Don't forget to check out this amazing opportunity! Bellevue University has partnered with BPS Foundation to offer… https://t.co/gBaq2STHPs\")]"
      ]
     },
     "execution_count": 105,
     "metadata": {},
     "output_type": "execute_result"
    }
   ],
   "source": [
    "## Searching for last 10 tweets with search term Bellevue University since 01/01/2022\n",
    "\n",
    "api.GetSearch(term='Bellevue University', since=2022-1-1, count=10)"
   ]
  },
  {
   "cell_type": "code",
   "execution_count": 106,
   "id": "e59b8593",
   "metadata": {},
   "outputs": [
    {
     "data": {
      "text/plain": [
       "[Status(ID=1493352575105703939, ScreenName=NASA, Created=Mon Feb 14 22:32:53 +0000 2022, Text='Our #IXPE observatory sent back its first science image: Cassiopeia A—the remains of a star that exploded 11,000 li… https://t.co/tAb3OL5LSp'),\n",
       " Status(ID=1493331606446223361, ScreenName=cspan, Created=Mon Feb 14 21:09:34 +0000 2022, Text='.@LeaderMcConnell: \"The only science that\\'s changed in the last two weeks is the political science. The only data t… https://t.co/Twh8IZ4mPQ'),\n",
       " Status(ID=1493214838448922633, ScreenName=EssexPR, Created=Mon Feb 14 13:25:34 +0000 2022, Text='Time to be sensible, time to sit down and heal any arguments you’ve had with family or friends over Covid or vaccin… https://t.co/Lfe3UKRF5L'),\n",
       " Status(ID=1493746250965225472, ScreenName=milantactics, Created=Wed Feb 16 00:37:13 +0000 2022, Text='RT @keralista: Interesting Thread. A lot of the elements spoken here seem very similar. The Moneyball approach is what Milan are employing…'),\n",
       " Status(ID=1493746094005620738, ScreenName=rkb123rkb, Created=Wed Feb 16 00:36:35 +0000 2022, Text='RT @anish_koka: I imagine that for some journalists finding out that the CDC is the master of cherry-picking data will be like that time yo…'),\n",
       " Status(ID=1493746038171185152, ScreenName=TheRealAstroman, Created=Wed Feb 16 00:36:22 +0000 2022, Text='RT @NASA_Marshall: Just in time for #ValentinesDay, NASA’s Imaging X-Ray Polarimetry Explorer has delivered its first imaging data since co…'),\n",
       " Status(ID=1493745976959373314, ScreenName=cs_swat, Created=Wed Feb 16 00:36:08 +0000 2022, Text='New Swarthmore Computer Science course for Fall 2024! CS05: Special Topics in Theoretical Design. In this class, st… https://t.co/mmPDaPvg5A'),\n",
       " Status(ID=1493745942239010816, ScreenName=pj_towns, Created=Wed Feb 16 00:35:59 +0000 2022, Text='@MySharonaBrown @nckhui @JMartin4Schools Look \\n\\nAnother scared adult that doesn’t realize there is no science to su… https://t.co/F5kKOGjIr4'),\n",
       " Status(ID=1493745861540691968, ScreenName=MaryKRe, Created=Wed Feb 16 00:35:40 +0000 2022, Text='@kuzcats @AblemanAdam Excellent explanation I just came across detailing how CDC &amp; others manipulate data for “myoc… https://t.co/Gh782djf87'),\n",
       " Status(ID=1493745806909734913, ScreenName=MikeMorsch, Created=Wed Feb 16 00:35:27 +0000 2022, Text='RT @SIGinsights: 🎤 We had the pleasure of speaking with Lukas Wawrla, one of Archlet’s Co-Founders, about how Archlet combines data science…')]"
      ]
     },
     "execution_count": 106,
     "metadata": {},
     "output_type": "execute_result"
    }
   ],
   "source": [
    "## Searching for last 10 tweets with data science\n",
    "\n",
    "api.GetSearch(term='Data Science', count=10)"
   ]
  },
  {
   "cell_type": "markdown",
   "id": "80fa01e2",
   "metadata": {},
   "source": [
    "#### 4. Using one of the datasets provided in Weeks 7 & 8, or a dataset of your own, choose 3 of the following visualizations to complete. You must submit via PDF along with your code. You are free to use Matplotlib, Seaborn or another package if you prefer."
   ]
  },
  {
   "cell_type": "markdown",
   "id": "9fb55ebc",
   "metadata": {},
   "source": [
    "a. Line <br>\n",
    "b. Scatter <br>\n",
    "c. Bar <br>\n",
    "d. Histogram <br>\n",
    "e. Density Plot <br>\n",
    "f. Pie Chart <br>"
   ]
  },
  {
   "cell_type": "code",
   "execution_count": 63,
   "id": "1fccedf2",
   "metadata": {},
   "outputs": [],
   "source": [
    "## Importing all the libraries required for this exercises.\n",
    "\n",
    "import numpy as np\n",
    "import pandas as pd\n",
    "pd.options.mode.chained_assignment = None\n",
    "import matplotlib.pyplot as plt"
   ]
  },
  {
   "cell_type": "code",
   "execution_count": 64,
   "id": "eee51805",
   "metadata": {},
   "outputs": [],
   "source": [
    "## I have considered Boston Housing dataset for this assignment.\n",
    "## So, creating pandas dataframe for the same\n",
    "\n",
    "house_df = pd.read_csv(\"Boston_housing.csv\",error_bad_lines=False, index_col=False, dtype='unicode')"
   ]
  },
  {
   "cell_type": "code",
   "execution_count": 67,
   "id": "36dbca54",
   "metadata": {},
   "outputs": [
    {
     "name": "stdout",
     "output_type": "stream",
     "text": [
      "The number of rows and columns present in the dataframe: (506, 14)\n",
      "\n",
      "Sample records\n"
     ]
    },
    {
     "data": {
      "text/html": [
       "<div>\n",
       "<style scoped>\n",
       "    .dataframe tbody tr th:only-of-type {\n",
       "        vertical-align: middle;\n",
       "    }\n",
       "\n",
       "    .dataframe tbody tr th {\n",
       "        vertical-align: top;\n",
       "    }\n",
       "\n",
       "    .dataframe thead th {\n",
       "        text-align: right;\n",
       "    }\n",
       "</style>\n",
       "<table border=\"1\" class=\"dataframe\">\n",
       "  <thead>\n",
       "    <tr style=\"text-align: right;\">\n",
       "      <th></th>\n",
       "      <th>CRIM</th>\n",
       "      <th>ZN</th>\n",
       "      <th>INDUS</th>\n",
       "      <th>CHAS</th>\n",
       "      <th>NOX</th>\n",
       "      <th>RM</th>\n",
       "      <th>AGE</th>\n",
       "      <th>DIS</th>\n",
       "      <th>RAD</th>\n",
       "      <th>TAX</th>\n",
       "      <th>PTRATIO</th>\n",
       "      <th>B</th>\n",
       "      <th>LSTAT</th>\n",
       "      <th>PRICE</th>\n",
       "    </tr>\n",
       "  </thead>\n",
       "  <tbody>\n",
       "    <tr>\n",
       "      <th>0</th>\n",
       "      <td>0.00632</td>\n",
       "      <td>18</td>\n",
       "      <td>2.31</td>\n",
       "      <td>0</td>\n",
       "      <td>0.538</td>\n",
       "      <td>6.575</td>\n",
       "      <td>65.2</td>\n",
       "      <td>4.09</td>\n",
       "      <td>1</td>\n",
       "      <td>296</td>\n",
       "      <td>15.3</td>\n",
       "      <td>396.9</td>\n",
       "      <td>4.98</td>\n",
       "      <td>24</td>\n",
       "    </tr>\n",
       "    <tr>\n",
       "      <th>1</th>\n",
       "      <td>0.02731</td>\n",
       "      <td>0</td>\n",
       "      <td>7.07</td>\n",
       "      <td>0</td>\n",
       "      <td>0.469</td>\n",
       "      <td>6.421</td>\n",
       "      <td>78.9</td>\n",
       "      <td>4.9671</td>\n",
       "      <td>2</td>\n",
       "      <td>242</td>\n",
       "      <td>17.8</td>\n",
       "      <td>396.9</td>\n",
       "      <td>9.14</td>\n",
       "      <td>21.6</td>\n",
       "    </tr>\n",
       "    <tr>\n",
       "      <th>2</th>\n",
       "      <td>0.02729</td>\n",
       "      <td>0</td>\n",
       "      <td>7.07</td>\n",
       "      <td>0</td>\n",
       "      <td>0.469</td>\n",
       "      <td>7.185</td>\n",
       "      <td>61.1</td>\n",
       "      <td>4.9671</td>\n",
       "      <td>2</td>\n",
       "      <td>242</td>\n",
       "      <td>17.8</td>\n",
       "      <td>392.83</td>\n",
       "      <td>4.03</td>\n",
       "      <td>34.7</td>\n",
       "    </tr>\n",
       "    <tr>\n",
       "      <th>3</th>\n",
       "      <td>0.03237</td>\n",
       "      <td>0</td>\n",
       "      <td>2.18</td>\n",
       "      <td>0</td>\n",
       "      <td>0.458</td>\n",
       "      <td>6.998</td>\n",
       "      <td>45.8</td>\n",
       "      <td>6.0622</td>\n",
       "      <td>3</td>\n",
       "      <td>222</td>\n",
       "      <td>18.7</td>\n",
       "      <td>394.63</td>\n",
       "      <td>2.94</td>\n",
       "      <td>33.4</td>\n",
       "    </tr>\n",
       "    <tr>\n",
       "      <th>4</th>\n",
       "      <td>0.06905</td>\n",
       "      <td>0</td>\n",
       "      <td>2.18</td>\n",
       "      <td>0</td>\n",
       "      <td>0.458</td>\n",
       "      <td>7.147</td>\n",
       "      <td>54.2</td>\n",
       "      <td>6.0622</td>\n",
       "      <td>3</td>\n",
       "      <td>222</td>\n",
       "      <td>18.7</td>\n",
       "      <td>396.9</td>\n",
       "      <td>5.33</td>\n",
       "      <td>36.2</td>\n",
       "    </tr>\n",
       "  </tbody>\n",
       "</table>\n",
       "</div>"
      ],
      "text/plain": [
       "      CRIM  ZN INDUS CHAS    NOX     RM   AGE     DIS RAD  TAX PTRATIO  \\\n",
       "0  0.00632  18  2.31    0  0.538  6.575  65.2    4.09   1  296    15.3   \n",
       "1  0.02731   0  7.07    0  0.469  6.421  78.9  4.9671   2  242    17.8   \n",
       "2  0.02729   0  7.07    0  0.469  7.185  61.1  4.9671   2  242    17.8   \n",
       "3  0.03237   0  2.18    0  0.458  6.998  45.8  6.0622   3  222    18.7   \n",
       "4  0.06905   0  2.18    0  0.458  7.147  54.2  6.0622   3  222    18.7   \n",
       "\n",
       "        B LSTAT PRICE  \n",
       "0   396.9  4.98    24  \n",
       "1   396.9  9.14  21.6  \n",
       "2  392.83  4.03  34.7  \n",
       "3  394.63  2.94  33.4  \n",
       "4   396.9  5.33  36.2  "
      ]
     },
     "execution_count": 67,
     "metadata": {},
     "output_type": "execute_result"
    }
   ],
   "source": [
    "## Printing the shape of the dataframe and count\n",
    "\n",
    "print(\"The number of rows and columns present in the dataframe: {}\".format(house_df.shape))\n",
    "print(\"\\nSample records\")\n",
    "house_df.head()"
   ]
  },
  {
   "cell_type": "code",
   "execution_count": 71,
   "id": "6d035995",
   "metadata": {},
   "outputs": [
    {
     "data": {
      "text/plain": [
       "CRIM       object\n",
       "ZN         object\n",
       "INDUS      object\n",
       "CHAS       object\n",
       "NOX        object\n",
       "RM         object\n",
       "AGE        object\n",
       "DIS        object\n",
       "RAD        object\n",
       "TAX        object\n",
       "PTRATIO    object\n",
       "B          object\n",
       "LSTAT      object\n",
       "PRICE      object\n",
       "dtype: object"
      ]
     },
     "execution_count": 71,
     "metadata": {},
     "output_type": "execute_result"
    }
   ],
   "source": [
    "## Printing the datatypes for each of the field present in the dataframe\n",
    "\n",
    "house_df.dtypes"
   ]
  },
  {
   "cell_type": "code",
   "execution_count": 74,
   "id": "81db1d30",
   "metadata": {},
   "outputs": [],
   "source": [
    "## Converting the datatypes to float based on the data present in each of the column\n",
    "\n",
    "house_df['CRIM']=house_df['CRIM'].astype(float,errors='raise')\n",
    "house_df['INDUS']=house_df['INDUS'].astype(float,errors='raise')\n",
    "house_df['NOX']=house_df['NOX'].astype(float,errors='raise')\n",
    "house_df['RM']=house_df['RM'].astype(float,errors='raise')\n",
    "house_df['AGE']=house_df['AGE'].astype(float,errors='raise')\n",
    "house_df['DIS']=house_df['DIS'].astype(float,errors='raise')\n",
    "house_df['PTRATIO']=house_df['PTRATIO'].astype(float,errors='raise')\n",
    "house_df['B']=house_df['B'].astype(float,errors='raise')\n",
    "house_df['LSTAT']=house_df['LSTAT'].astype(float,errors='raise')\n",
    "house_df['PRICE']=house_df['PRICE'].astype(float,errors='raise')\n",
    "house_df['ZN']=house_df['ZN'].astype(float,errors='raise')\n",
    "house_df['CHAS']=house_df['CHAS'].astype(int,errors='raise')\n",
    "house_df['RAD']=house_df['RAD'].astype(int,errors='raise')\n",
    "house_df['TAX']=house_df['TAX'].astype(int,errors='raise')"
   ]
  },
  {
   "cell_type": "code",
   "execution_count": 75,
   "id": "0cfc8bd6",
   "metadata": {},
   "outputs": [
    {
     "data": {
      "text/plain": [
       "CRIM       float64\n",
       "ZN         float64\n",
       "INDUS      float64\n",
       "CHAS         int32\n",
       "NOX        float64\n",
       "RM         float64\n",
       "AGE        float64\n",
       "DIS        float64\n",
       "RAD          int32\n",
       "TAX          int32\n",
       "PTRATIO    float64\n",
       "B          float64\n",
       "LSTAT      float64\n",
       "PRICE      float64\n",
       "dtype: object"
      ]
     },
     "execution_count": 75,
     "metadata": {},
     "output_type": "execute_result"
    }
   ],
   "source": [
    "## Printing the datatype after conversion\n",
    "\n",
    "house_df.dtypes"
   ]
  },
  {
   "cell_type": "code",
   "execution_count": 81,
   "id": "fecb1692",
   "metadata": {},
   "outputs": [
    {
     "data": {
      "text/plain": [
       "<AxesSubplot:title={'center':'Housing Dataset Line Chart'}>"
      ]
     },
     "execution_count": 81,
     "metadata": {},
     "output_type": "execute_result"
    },
    {
     "data": {
      "image/png": "[encoded data removed]",
      "text/plain": [
       "<Figure size 432x288 with 1 Axes>"
      ]
     },
     "metadata": {
      "needs_background": "light"
     },
     "output_type": "display_data"
    }
   ],
   "source": [
    "## Plotting the line chart for the house dataframe\n",
    "\n",
    "house_df.plot.line(title=\"Housing Dataset Line Chart\")"
   ]
  },
  {
   "cell_type": "code",
   "execution_count": 86,
   "id": "436a6300",
   "metadata": {},
   "outputs": [
    {
     "data": {
      "text/plain": [
       "<AxesSubplot:title={'center':'Housing Dataset Scatter Plot'}, xlabel='CRIM', ylabel='PRICE'>"
      ]
     },
     "execution_count": 86,
     "metadata": {},
     "output_type": "execute_result"
    },
    {
     "data": {
      "image/png": "[encoded data removed]",
      "text/plain": [
       "<Figure size 432x288 with 1 Axes>"
      ]
     },
     "metadata": {
      "needs_background": "light"
     },
     "output_type": "display_data"
    }
   ],
   "source": [
    "## Plotting the scatter plot for housing dataframe\n",
    "\n",
    "house_df.plot.scatter(x='CRIM',y='PRICE', title=\"Housing Dataset Scatter Plot\")"
   ]
  },
  {
   "cell_type": "code",
   "execution_count": 88,
   "id": "31fc99a7",
   "metadata": {},
   "outputs": [
    {
     "data": {
      "text/plain": [
       "array([[<AxesSubplot:title={'center':'AGE'}>]], dtype=object)"
      ]
     },
     "execution_count": 88,
     "metadata": {},
     "output_type": "execute_result"
    },
    {
     "data": {
      "image/png": "[encoded data removed]",
      "text/plain": [
       "<Figure size 432x288 with 1 Axes>"
      ]
     },
     "metadata": {
      "needs_background": "light"
     },
     "output_type": "display_data"
    }
   ],
   "source": [
    "## Plotting histogram for the housing dataset\n",
    "\n",
    "house_df.hist(column='AGE',bins=10)"
   ]
  },
  {
   "cell_type": "code",
   "execution_count": 97,
   "id": "d3ea683e",
   "metadata": {},
   "outputs": [
    {
     "data": {
      "text/html": [
       "<div>\n",
       "<style scoped>\n",
       "    .dataframe tbody tr th:only-of-type {\n",
       "        vertical-align: middle;\n",
       "    }\n",
       "\n",
       "    .dataframe tbody tr th {\n",
       "        vertical-align: top;\n",
       "    }\n",
       "\n",
       "    .dataframe thead th {\n",
       "        text-align: right;\n",
       "    }\n",
       "</style>\n",
       "<table border=\"1\" class=\"dataframe\">\n",
       "  <thead>\n",
       "    <tr style=\"text-align: right;\">\n",
       "      <th></th>\n",
       "      <th>CRIM</th>\n",
       "    </tr>\n",
       "    <tr>\n",
       "      <th>RAD</th>\n",
       "      <th></th>\n",
       "    </tr>\n",
       "  </thead>\n",
       "  <tbody>\n",
       "    <tr>\n",
       "      <th>1</th>\n",
       "      <td>20</td>\n",
       "    </tr>\n",
       "    <tr>\n",
       "      <th>2</th>\n",
       "      <td>24</td>\n",
       "    </tr>\n",
       "    <tr>\n",
       "      <th>3</th>\n",
       "      <td>38</td>\n",
       "    </tr>\n",
       "    <tr>\n",
       "      <th>4</th>\n",
       "      <td>110</td>\n",
       "    </tr>\n",
       "    <tr>\n",
       "      <th>5</th>\n",
       "      <td>115</td>\n",
       "    </tr>\n",
       "    <tr>\n",
       "      <th>6</th>\n",
       "      <td>26</td>\n",
       "    </tr>\n",
       "    <tr>\n",
       "      <th>7</th>\n",
       "      <td>17</td>\n",
       "    </tr>\n",
       "    <tr>\n",
       "      <th>8</th>\n",
       "      <td>24</td>\n",
       "    </tr>\n",
       "    <tr>\n",
       "      <th>24</th>\n",
       "      <td>132</td>\n",
       "    </tr>\n",
       "  </tbody>\n",
       "</table>\n",
       "</div>"
      ],
      "text/plain": [
       "     CRIM\n",
       "RAD      \n",
       "1      20\n",
       "2      24\n",
       "3      38\n",
       "4     110\n",
       "5     115\n",
       "6      26\n",
       "7      17\n",
       "8      24\n",
       "24    132"
      ]
     },
     "execution_count": 97,
     "metadata": {},
     "output_type": "execute_result"
    }
   ],
   "source": [
    "## Plotting Pie chart for the house dataframe\n",
    "\n",
    "house_pie_df = house_df[['RAD','CRIM']].groupby('RAD').count()\n",
    "house_pie_df"
   ]
  },
  {
   "cell_type": "code",
   "execution_count": 102,
   "id": "a3f82948",
   "metadata": {},
   "outputs": [
    {
     "data": {
      "text/plain": [
       "<AxesSubplot:ylabel='CRIM'>"
      ]
     },
     "execution_count": 102,
     "metadata": {},
     "output_type": "execute_result"
    },
    {
     "data": {
      "image/png": "[encoded data removed]",
      "text/plain": [
       "<Figure size 360x360 with 1 Axes>"
      ]
     },
     "metadata": {},
     "output_type": "display_data"
    }
   ],
   "source": [
    "## Plotting pie chart for the dataframe created\n",
    "\n",
    "house_pie_df.plot.pie(y=\"CRIM\",figsize=(5,5))"
   ]
  },
  {
   "cell_type": "code",
   "execution_count": null,
   "id": "4a7ee0bb",
   "metadata": {},
   "outputs": [],
   "source": []
  }
 ],
 "metadata": {
  "kernelspec": {
   "display_name": "Python 3",
   "language": "python",
   "name": "python3"
  },
  "language_info": {
   "codemirror_mode": {
    "name": "ipython",
    "version": 3
   },
   "file_extension": ".py",
   "mimetype": "text/x-python",
   "name": "python",
   "nbconvert_exporter": "python",
   "pygments_lexer": "ipython3",
   "version": "3.8.8"
  }
 },
 "nbformat": 4,
 "nbformat_minor": 5
}
